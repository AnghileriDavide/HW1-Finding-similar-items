{
 "cells": [
  {
   "cell_type": "code",
   "execution_count": 79,
   "metadata": {},
   "outputs": [],
   "source": [
    "%run Shingling.ipynb\n",
    "%run CompareSets.ipynb\n",
    "%run MinHashing.ipynb\n",
    "%run LSH.ipynb"
   ]
  },
  {
   "cell_type": "code",
   "execution_count": 84,
   "metadata": {},
   "outputs": [],
   "source": [
    "import os\n",
    "import math\n",
    "import time\n",
    "import numpy as np\n",
    "\n",
    "from pyspark.sql import SparkSession\n",
    "from pyspark.sql.types import *\n",
    "from pyspark.sql.functions import *\n",
    "from pyspark.sql import Row\n",
    "\n",
    "from functools import partial\n",
    "\n",
    "class TextualSimilarity:\n",
    "    \n",
    "    def __init__(self, directory, k_shingle, k_sign, band, r, threshold):\n",
    "        self.docs_names = dict()\n",
    "        self.docs = self._get_docs(directory)\n",
    "        self.k_shingle = k_shingle\n",
    "        self.k_sign = k_sign\n",
    "        self.band = band\n",
    "        self.r = r\n",
    "        self.threshold = threshold\n",
    "        \n",
    "        \n",
    "    def _get_docs(self, directory):\n",
    "        # Returns each document as a string with its coresponding ID\n",
    "        docs = []\n",
    "        index = 0\n",
    "        for filename in os.listdir(directory):\n",
    "            with open(directory + \"/\" + filename, 'r') as myfile:\n",
    "                doc = myfile.read().replace('\\n', '')\n",
    "                docs.append((index, doc))\n",
    "                self.docs_names[index] = filename\n",
    "                index += 1\n",
    "        return docs\n",
    "    \n",
    "    \n",
    "    def _print_results(self, similarities):\n",
    "        message = \"\"\n",
    "        for pair, similarity in sorted(similarities.items(), key = lambda x: x[1]):\n",
    "            message += \"Similarity for documents \" + self.docs_names[pair[0]] \n",
    "            message += \" and \" + self.docs_names[pair[1]] \n",
    "            message += \": \" + str(similarity) + \"\\n\"\n",
    "        print(message)\n",
    "    \n",
    "    \n",
    "    def execute(self, sc):\n",
    "        # Measure execution time\n",
    "        start_time = time.time()\n",
    "        \n",
    "        # Generate RDD from the documents\n",
    "        docs = sc.parallelize(self.docs)\n",
    "        \n",
    "        # Execute Shingling for each document\n",
    "        shingling = Shingling(self.k_shingle)\n",
    "        shinglings = docs.map(shingling.shingling)\n",
    "        \n",
    "        # Creating signatures from the shinglings\n",
    "        min_hashing = MinHashing(k = self.k_sign)\n",
    "        signatures = shinglings.map(min_hashing.signature).values().collect()\n",
    "        \n",
    "        # Create LSH object to get candidate pairs\n",
    "        lsh = LSH(self.band, self.r)\n",
    "        split = np.hsplit(np.stack(signatures), lsh.b)\n",
    "        pairs = sc.parallelize(split).map(lsh.pairs)\n",
    "        candidates = lsh.candidates(pairs.collect())\n",
    "\n",
    "        # Calculate Jaccard Similarity for the candidate pairs\n",
    "        jaccard = CompareSets(signatures, self.threshold)\n",
    "        similarities = jaccard.calculate(candidates)\n",
    "        \n",
    "        # Printing the results and execution time\n",
    "        self._print_results(similarities)\n",
    "        print(\"Execution time: \" + str(time.time() - start_time) + \"s\", sep = '')"
   ]
  },
  {
   "cell_type": "code",
   "execution_count": 85,
   "metadata": {
    "scrolled": true
   },
   "outputs": [
    {
     "name": "stdout",
     "output_type": "stream",
     "text": [
      "Similarity for documents b.txt and c.txt: 0.5390625\n",
      "Similarity for documents c.txt and a.txt: 0.5555555555555556\n",
      "Similarity for documents c.txt and d.txt: 0.5555555555555556\n",
      "Similarity for documents b.txt and a.txt: 0.97\n",
      "Similarity for documents b.txt and d.txt: 0.97\n",
      "Similarity for documents a.txt and d.txt: 1.0\n",
      "\n",
      "Execution time: 0.9812185764312744s\n"
     ]
    }
   ],
   "source": [
    "# Start spark\n",
    "spark = SparkSession.builder \\\n",
    "    .master('local[*]') \\\n",
    "    .appName('IPDE') \\\n",
    "    .getOrCreate()\n",
    "sc = spark.sparkContext\n",
    "\n",
    "# Execute test\n",
    "similarity = TextualSimilarity(\"../data/\", 5, 100, 50, 2, 0.4)\n",
    "similarity.execute(sc)"
   ]
  },
  {
   "cell_type": "code",
   "execution_count": null,
   "metadata": {
    "collapsed": true
   },
   "outputs": [],
   "source": []
  }
 ],
 "metadata": {
  "kernelspec": {
   "display_name": "Python 3",
   "language": "python",
   "name": "python3"
  },
  "language_info": {
   "codemirror_mode": {
    "name": "ipython",
    "version": 3
   },
   "file_extension": ".py",
   "mimetype": "text/x-python",
   "name": "python",
   "nbconvert_exporter": "python",
   "pygments_lexer": "ipython3",
   "version": "3.6.2"
  }
 },
 "nbformat": 4,
 "nbformat_minor": 2
}
