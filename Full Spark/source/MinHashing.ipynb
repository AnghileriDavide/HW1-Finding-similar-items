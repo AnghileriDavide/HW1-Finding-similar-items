{
 "cells": [
  {
   "cell_type": "code",
   "execution_count": 1,
   "metadata": {
    "collapsed": true
   },
   "outputs": [],
   "source": [
    "import sys \n",
    "import numpy as np\n",
    "\n",
    "class MinHashing:\n",
    "    \"\"\" builds a minHash signature (in the form of a vector or a set) \n",
    "    of a given length k from a given set of integers (a set of hashed shingles).\"\"\"\n",
    "    \n",
    "    def __init__(self, a = [], b = [], c = [], k = 5):\n",
    "        self.a = a\n",
    "        self.b = b\n",
    "        self.c = c\n",
    "        self.k = k\n",
    "        self._randomize()\n",
    "    \n",
    "    \n",
    "    def _randomize(self):\n",
    "        # k is the number of hash functions (and so triples a,b,c) to create\n",
    "        self.a = np.random.randint(0, sys.maxsize, self.k)\n",
    "        self.b = np.random.randint(0, sys.maxsize, self.k)\n",
    "        self.c = np.random.randint(0, sys.maxsize, self.k)\n",
    "\n",
    "        \n",
    "    def _h(self, number, index):\n",
    "        return (self.a[index] * number + self.b[index]) % self.c[index]\n",
    "        \n",
    "        \n",
    "    def _minHash(self, set1, index): \n",
    "        #index identify which triples a,b,c to use for the minHash function \"h()\"    \n",
    "        minElem = 0\n",
    "        minValue = sys.maxsize\n",
    "        for elem in set1:\n",
    "            h_value = self._h(elem, index)\n",
    "            if(h_value < minValue):\n",
    "                minElem = elem\n",
    "                minValue = h_value\n",
    "        return minElem\n",
    "           \n",
    "        \n",
    "    def signature(self, doc_set):\n",
    "        # return a vector that represent the signature of the set using the triples a,b,c in order, stored\n",
    "        # in the class, to compute the minHash for k times\n",
    "        id = doc_set[0]\n",
    "        doc = doc_set[1]\n",
    "        sign = []\n",
    "        for i in range(0, self.k):\n",
    "            sign.append(self._minHash(doc, i))\n",
    "        return (id, sign)"
   ]
  }
 ],
 "metadata": {
  "kernelspec": {
   "display_name": "Python 3",
   "language": "python",
   "name": "python3"
  },
  "language_info": {
   "codemirror_mode": {
    "name": "ipython",
    "version": 3
   },
   "file_extension": ".py",
   "mimetype": "text/x-python",
   "name": "python",
   "nbconvert_exporter": "python",
   "pygments_lexer": "ipython3",
   "version": "3.6.2"
  }
 },
 "nbformat": 4,
 "nbformat_minor": 2
}
