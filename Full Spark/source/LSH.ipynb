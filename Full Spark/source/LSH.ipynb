{
 "cells": [
  {
   "cell_type": "code",
   "execution_count": 24,
   "metadata": {
    "collapsed": true
   },
   "outputs": [],
   "source": [
    "import itertools\n",
    "\n",
    "class LSH:\n",
    "    \n",
    "    def __init__(self, b = 20, r = 5):\n",
    "        self.t = (1/b)**(1/r)\n",
    "        self.b = b\n",
    "        self.r = r\n",
    "    \n",
    "    \n",
    "    def _h(self, intList):\n",
    "        # p is a prime number , a is a random number\n",
    "        p = 119983\n",
    "        sum = 0\n",
    "        a = 1\n",
    "        for number in intList:\n",
    "            sum = sum + (number * a)\n",
    "            a += 1\n",
    "        return sum % p\n",
    "         \n",
    "    \n",
    "    def pairs(self, band):\n",
    "        # Applies hashing to the band to get similar columns\n",
    "        buckets = dict()\n",
    "        for doc, portion in enumerate(band):\n",
    "            h_value = self._h(portion)\n",
    "            if h_value in buckets:\n",
    "                buckets[h_value].append(doc)\n",
    "            else:\n",
    "                buckets[h_value] = [doc]\n",
    "        \n",
    "        # Generates the pair combination of documents to test\n",
    "        pairs = []\n",
    "        duplicates = [value for key, value in buckets.items() if len(value) > 1]\n",
    "        for duplicate in duplicates:\n",
    "            pairs = pairs + list(itertools.combinations(duplicate, 2))\n",
    "            \n",
    "        return pairs"
   ]
  }
 ],
 "metadata": {
  "kernelspec": {
   "display_name": "Python 3",
   "language": "python",
   "name": "python3"
  },
  "language_info": {
   "codemirror_mode": {
    "name": "ipython",
    "version": 3
   },
   "file_extension": ".py",
   "mimetype": "text/x-python",
   "name": "python",
   "nbconvert_exporter": "python",
   "pygments_lexer": "ipython3",
   "version": "3.6.2"
  }
 },
 "nbformat": 4,
 "nbformat_minor": 2
}
