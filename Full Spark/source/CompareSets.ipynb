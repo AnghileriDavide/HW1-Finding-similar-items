{
 "cells": [
  {
   "cell_type": "code",
   "execution_count": null,
   "metadata": {
    "collapsed": true
   },
   "outputs": [],
   "source": [
    "class CompareSets:\n",
    "   \n",
    "    def __init__(self, signatures):\n",
    "        self.signatures = signatures\n",
    "        \n",
    "    \n",
    "    def _jaccard(self, r1, r2):\n",
    "        # Setting the sets for the calculation\n",
    "        set1 = self.signatures[r1]\n",
    "        set2 = self.signatures[r2]\n",
    "        \n",
    "        # Get intersection and union for Jaccard Similarity\n",
    "        intersection = set(set1).intersection(set2)\n",
    "        union = set(set1).union(set2)\n",
    "        \n",
    "        # The similarity\n",
    "        return len(intersection) / len(union)\n",
    "    \n",
    "    \n",
    "    def calculate(self, pair):\n",
    "        # Calculates the similiarity for the pair\n",
    "        similarity = self._jaccard(pair[0], pair[1])\n",
    "        return (pair, similarity)"
   ]
  }
 ],
 "metadata": {
  "kernelspec": {
   "display_name": "Python 3",
   "language": "python",
   "name": "python3"
  },
  "language_info": {
   "codemirror_mode": {
    "name": "ipython",
    "version": 3
   },
   "file_extension": ".py",
   "mimetype": "text/x-python",
   "name": "python",
   "nbconvert_exporter": "python",
   "pygments_lexer": "ipython3",
   "version": "3.6.2"
  }
 },
 "nbformat": 4,
 "nbformat_minor": 2
}
