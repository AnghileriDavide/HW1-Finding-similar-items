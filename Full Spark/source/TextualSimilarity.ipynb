{
 "cells": [
  {
   "cell_type": "code",
   "execution_count": 27,
   "metadata": {
    "collapsed": true
   },
   "outputs": [],
   "source": [
    "%run Shingling.ipynb\n",
    "%run CompareSets.ipynb\n",
    "%run MinHashing.ipynb\n",
    "%run CompareSignatures.ipynb\n",
    "%run LSH.ipynb"
   ]
  },
  {
   "cell_type": "code",
   "execution_count": 28,
   "metadata": {
    "collapsed": true
   },
   "outputs": [],
   "source": [
    "import os\n",
    "import math\n",
    "import time\n",
    "import numpy as np\n",
    "\n",
    "from pyspark.sql import SparkSession\n",
    "from pyspark.sql.types import *\n",
    "from pyspark.sql.functions import *\n",
    "from pyspark.sql import Row\n",
    "\n",
    "from functools import partial\n",
    "\n",
    "class TextualSimilarity:\n",
    "    \n",
    "    def __init__(self, directory, k_shingle, k_sign, band, r, threshold):\n",
    "        self.docs_names = dict()\n",
    "        self.docs = self._get_docs(directory)\n",
    "        self.k_shingle = k_shingle\n",
    "        self.k_sign = k_sign\n",
    "        self.band = band\n",
    "        self.r = r\n",
    "        self.threshold = threshold\n",
    "        \n",
    "        \n",
    "    def _get_docs(self, directory):\n",
    "        # Returns each document as a string with its coresponding ID\n",
    "        docs = []\n",
    "        index = 0\n",
    "        for filename in os.listdir(directory):\n",
    "            with open(directory + \"/\" + filename, 'r') as myfile:\n",
    "                doc = myfile.read().replace('\\n', '')\n",
    "                docs.append((index, doc))\n",
    "                self.docs_names[index] = filename\n",
    "                index += 1\n",
    "        return docs\n",
    "    \n",
    "    \n",
    "    def _print_results(self, result):\n",
    "        message = \"\"\n",
    "        for candidate in result:\n",
    "            # Setting the docs and their similarity\n",
    "            doc1 = candidate[0][0]\n",
    "            doc2 = candidate[0][1]\n",
    "            similarity = str(candidate[1])\n",
    "            \n",
    "            # Generating and printing the result\n",
    "            message += \"Similarity for documents \" + self.docs_names[doc1] \n",
    "            message += \" and \" + self.docs_names[doc2] \n",
    "            message += \": \" + similarity + \"\\n\"\n",
    "            message += \"\\t- \" + self.docs[doc1][1] + \"\\n\"\n",
    "            message += \"\\t- \" + self.docs[doc2][1] + \"\\n\"\n",
    "        print(message)\n",
    "    \n",
    "    \n",
    "    def execute(self, sc):\n",
    "        # Measure execution time\n",
    "        start_time = time.time()\n",
    "        \n",
    "        # Generate RDD from the documents\n",
    "        docs = sc.parallelize(self.docs)\n",
    "        \n",
    "        # Execute Shingling for each document\n",
    "        shingling = Shingling(self.k_shingle)\n",
    "        shinglings = docs.map(shingling.shingling)\n",
    "        \n",
    "        # Creating signatures from the shinglings\n",
    "        min_hashing = MinHashing(k = self.k_sign)\n",
    "        signatures = shinglings.map(min_hashing.signature).values().collect()\n",
    "        \n",
    "        # Create LSH object to get candidate pairs\n",
    "        lsh = LSH(self.band, self.r)\n",
    "        split = np.hsplit(np.stack(signatures), lsh.b)\n",
    "        pairs = sc.parallelize(split).flatMap(lsh.pairs).distinct()\n",
    "\n",
    "        # Compare the signatures of the selected pairs\n",
    "        comparer = CompareSignatures(signatures)\n",
    "        candidates = pairs.filter(lambda x: comparer.compare(x) >= lsh.t)\n",
    "        \n",
    "        # Calculate Jaccard Similarity for the candidate pairs\n",
    "        jaccard = CompareSets(signatures)\n",
    "        similarities = candidates.map(jaccard.calculate).filter(lambda x: x[1] >= self.threshold)\n",
    "\n",
    "        # Printing the results in order and execution time\n",
    "        self._print_results(similarities.collect())\n",
    "        print(\"Execution time: \" + str(time.time() - start_time) + \"s\", sep = '')"
   ]
  },
  {
   "cell_type": "code",
   "execution_count": 29,
   "metadata": {
    "scrolled": true
   },
   "outputs": [
    {
     "name": "stdout",
     "output_type": "stream",
     "text": [
      "Similarity for documents reviewcy and reviewck: 0.5952380952380952\n",
      "\t-  the sound quality is very good .\n",
      "\t-  It is compact and the sound quality is very good .\n",
      "\n",
      "Execution time: 0.9237532615661621s\n"
     ]
    }
   ],
   "source": [
    "# Start spark\n",
    "spark = SparkSession.builder \\\n",
    "    .master('local[*]') \\\n",
    "    .appName('IPDE') \\\n",
    "    .getOrCreate()\n",
    "sc = spark.sparkContext\n",
    "\n",
    "# Execute test\n",
    "similarity = TextualSimilarity(\"../data/\", 5, 100, 20, 5, 0.5)\n",
    "similarity.execute(sc)"
   ]
  }
 ],
 "metadata": {
  "kernelspec": {
   "display_name": "Python 3",
   "language": "python",
   "name": "python3"
  },
  "language_info": {
   "codemirror_mode": {
    "name": "ipython",
    "version": 3
   },
   "file_extension": ".py",
   "mimetype": "text/x-python",
   "name": "python",
   "nbconvert_exporter": "python",
   "pygments_lexer": "ipython3",
   "version": "3.6.2"
  }
 },
 "nbformat": 4,
 "nbformat_minor": 2
}
