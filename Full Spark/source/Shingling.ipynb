{
 "cells": [
  {
   "cell_type": "code",
   "execution_count": null,
   "metadata": {
    "collapsed": true
   },
   "outputs": [],
   "source": [
    "import math\n",
    "\n",
    "class Shingling:\n",
    "    \n",
    "    def __init__(self, k):\n",
    "        self.k = k\n",
    "    \n",
    "    \n",
    "    def _hash(self, s):\n",
    "        return int.from_bytes(s.encode(), 'little')\n",
    "\n",
    "    \n",
    "    def shingling(self, doc):\n",
    "        # The doc content\n",
    "        id = doc[0]\n",
    "        text = doc[1]\n",
    "        \n",
    "        # Generate the shingles for the current doc\n",
    "        i = 0\n",
    "        shingles = []\n",
    "        while i + self.k <= len(text):\n",
    "            shingle = self._hash(text[i:i + self.k])\n",
    "            shingles.append(shingle)\n",
    "            i += 1\n",
    "        \n",
    "        # Returning the shingles for doc 'id'\n",
    "        return (id, shingles)"
   ]
  }
 ],
 "metadata": {
  "kernelspec": {
   "display_name": "Python 3",
   "language": "python",
   "name": "python3"
  },
  "language_info": {
   "codemirror_mode": {
    "name": "ipython",
    "version": 3
   },
   "file_extension": ".py",
   "mimetype": "text/x-python",
   "name": "python",
   "nbconvert_exporter": "python",
   "pygments_lexer": "ipython3",
   "version": "3.6.2"
  }
 },
 "nbformat": 4,
 "nbformat_minor": 2
}
