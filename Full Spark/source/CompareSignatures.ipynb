{
 "cells": [
  {
   "cell_type": "code",
   "execution_count": null,
   "metadata": {
    "collapsed": true
   },
   "outputs": [],
   "source": [
    "class CompareSignatures:\n",
    "    \n",
    "    def __init__(self, signatures):\n",
    "        self.signatures = signatures\n",
    "        \n",
    "        \n",
    "    def compare(self, pair):\n",
    "        #check that the signatures have the same number of elements\n",
    "        count = 0\n",
    "        r1 = pair[0]\n",
    "        r2 = pair[1]\n",
    "        for i in range(0, len(self.signatures[r1])):\n",
    "            if(self.signatures[r1][i] == self.signatures[r2][i]):\n",
    "                count += 1\n",
    "        return count / len(self.signatures[r1])"
   ]
  }
 ],
 "metadata": {
  "kernelspec": {
   "display_name": "Python 3",
   "language": "python",
   "name": "python3"
  },
  "language_info": {
   "codemirror_mode": {
    "name": "ipython",
    "version": 3
   },
   "file_extension": ".py",
   "mimetype": "text/x-python",
   "name": "python",
   "nbconvert_exporter": "python",
   "pygments_lexer": "ipython3",
   "version": "3.6.2"
  }
 },
 "nbformat": 4,
 "nbformat_minor": 2
}
